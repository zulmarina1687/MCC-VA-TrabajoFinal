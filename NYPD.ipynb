{
  "cells": [
    {
      "cell_type": "markdown",
      "metadata": {
        "id": "view-in-github",
        "colab_type": "text"
      },
      "source": [
        "<a href=\"https://colab.research.google.com/github/zulmarina1687/MCC-VA-TrabajoFinal/blob/main/NYPD.ipynb\" target=\"_parent\"><img src=\"https://colab.research.google.com/assets/colab-badge.svg\" alt=\"Open In Colab\"/></a>"
      ]
    },
    {
      "cell_type": "code",
      "execution_count": null,
      "id": "d664ecb6-503b-4dbc-8c0c-71be669b0bf3",
      "metadata": {
        "id": "d664ecb6-503b-4dbc-8c0c-71be669b0bf3"
      },
      "outputs": [],
      "source": [
        "import findspark\n",
        "findspark.init()"
      ]
    },
    {
      "cell_type": "code",
      "execution_count": null,
      "id": "193b13b3",
      "metadata": {
        "id": "193b13b3"
      },
      "outputs": [],
      "source": [
        "from pyspark.sql import SparkSession\n",
        "from pyspark.sql.avro.functions import from_avro, to_avro\n",
        "from pyspark.sql.types import DoubleType\n",
        "from pyspark.sql.types import StructType, StructField, IntegerType, StringType, DecimalType, DoubleType\n",
        "import pyspark\n",
        "import pyspark.sql.types as types\n",
        "from pyspark.sql import SQLContext\n",
        "from pyspark.sql.window import Window\n",
        "from math import *\n",
        "import sys\n",
        "from pyspark.sql.types import LongType, IntegerType, FloatType\n",
        "from pyspark.sql.functions import *\n",
        "from IPython.display import display, Math, Latex\n",
        "from pyspark.sql import functions as F\n",
        "from datetime import date, timedelta, datetime\n",
        "import json\n",
        "from pyspark.sql.types import StructType\n",
        "from typing import List\n",
        "\n",
        "spark = SparkSession.builder \\\n",
        "  .master(\"local[*]\") \\\n",
        "  .appName(\"parquet_example\") \\\n",
        "  .getOrCreate()"
      ]
    },
    {
      "cell_type": "code",
      "execution_count": null,
      "id": "82608255",
      "metadata": {
        "id": "82608255",
        "outputId": "b770856a-d69f-4f1b-edb2-1a7fe4c23fa8"
      },
      "outputs": [
        {
          "data": {
            "text/html": [
              "<style>\n",
              ".output_subarea.output_text.output_stream.output_stdout > pre {\n",
              "   width:max-content;\n",
              "}\n",
              ".p-Widget.jp-RenderedText.jp-OutputArea-output > pre {\n",
              "   width:max-content;\n",
              "}\n"
            ],
            "text/plain": [
              "<IPython.core.display.HTML object>"
            ]
          },
          "metadata": {},
          "output_type": "display_data"
        }
      ],
      "source": [
        "%%html\n",
        "<style>\n",
        ".output_subarea.output_text.output_stream.output_stdout > pre {\n",
        "   width:max-content;\n",
        "}\n",
        ".p-Widget.jp-RenderedText.jp-OutputArea-output > pre {\n",
        "   width:max-content;\n",
        "}"
      ]
    },
    {
      "cell_type": "code",
      "execution_count": null,
      "id": "40071c49-836a-4cdd-9ec0-4fa898ff1145",
      "metadata": {
        "id": "40071c49-836a-4cdd-9ec0-4fa898ff1145"
      },
      "outputs": [],
      "source": [
        "#################"
      ]
    },
    {
      "cell_type": "code",
      "execution_count": null,
      "id": "a3feecc9-6832-4abb-a281-6de6db125e58",
      "metadata": {
        "id": "a3feecc9-6832-4abb-a281-6de6db125e58"
      },
      "outputs": [],
      "source": []
    },
    {
      "cell_type": "code",
      "execution_count": null,
      "id": "af0ba038-a4b3-4d3b-a5df-2e309242ba5c",
      "metadata": {
        "id": "af0ba038-a4b3-4d3b-a5df-2e309242ba5c",
        "outputId": "75bdc092-21d7-420e-d332-3e7b6de1f980"
      },
      "outputs": [
        {
          "name": "stderr",
          "output_type": "stream",
          "text": [
            "C:\\Users\\junior.gomez\\AppData\\Local\\Temp\\ipykernel_17028\\4038664820.py:1: DeprecationWarning: Importing display from IPython.core.display is deprecated since IPython 7.14, please import from IPython display\n",
            "  from IPython.core.display import display, HTML\n"
          ]
        },
        {
          "data": {
            "text/html": [
              "<style>div.output_area pre {white-space: pre;}</style>"
            ],
            "text/plain": [
              "<IPython.core.display.HTML object>"
            ]
          },
          "metadata": {},
          "output_type": "display_data"
        }
      ],
      "source": [
        "from IPython.core.display import display, HTML\n",
        "display(HTML(\"<style>div.output_area pre {white-space: pre;}</style>\"))"
      ]
    },
    {
      "cell_type": "code",
      "execution_count": null,
      "id": "e8b4460f-2afa-42e7-a8e2-fedd35b7725d",
      "metadata": {
        "id": "e8b4460f-2afa-42e7-a8e2-fedd35b7725d",
        "outputId": "d5a69ab8-5a89-43db-fe39-533c1021817b"
      },
      "outputs": [
        {
          "data": {
            "text/html": [
              "<style>pre { white-space: pre !important; }</style>"
            ],
            "text/plain": [
              "<IPython.core.display.HTML object>"
            ]
          },
          "metadata": {},
          "output_type": "display_data"
        }
      ],
      "source": [
        "from IPython.core.display import HTML\n",
        "display(HTML(\"<style>pre { white-space: pre !important; }</style>\"))"
      ]
    },
    {
      "cell_type": "code",
      "execution_count": null,
      "id": "b786be7b-4c59-45c7-b372-3cde6f390c48",
      "metadata": {
        "id": "b786be7b-4c59-45c7-b372-3cde6f390c48"
      },
      "outputs": [],
      "source": []
    },
    {
      "cell_type": "code",
      "execution_count": null,
      "id": "c0a3991e-cb02-4491-b411-547d75f0bcb2",
      "metadata": {
        "id": "c0a3991e-cb02-4491-b411-547d75f0bcb2"
      },
      "outputs": [],
      "source": [
        "############acomodando data dummyy############"
      ]
    },
    {
      "cell_type": "code",
      "execution_count": null,
      "id": "6449e9c4-6aa8-4b24-8321-d49f74c5c58c",
      "metadata": {
        "id": "6449e9c4-6aa8-4b24-8321-d49f74c5c58c"
      },
      "outputs": [],
      "source": [
        "######antes en el colab ya habiamos generado un csv solo con este rango de años a evaluar y esto recien lo leo en pyspark para\n",
        "#####su transformaciones"
      ]
    },
    {
      "cell_type": "code",
      "execution_count": null,
      "id": "274dde80-3d8f-4c2c-a7d5-d814cc9b37c4",
      "metadata": {
        "id": "274dde80-3d8f-4c2c-a7d5-d814cc9b37c4"
      },
      "outputs": [],
      "source": [
        "nypd_df = spark.read.csv('NYPD_Complaint_Data_Historic_2018_2023.csv', header = True, sep = \",\")\n"
      ]
    },
    {
      "cell_type": "code",
      "execution_count": null,
      "id": "512d25e2-de6c-4a99-961a-f484e954d505",
      "metadata": {
        "id": "512d25e2-de6c-4a99-961a-f484e954d505",
        "outputId": "074c849c-ce9f-4e30-cf97-b49e158ee86a"
      },
      "outputs": [
        {
          "name": "stdout",
          "output_type": "stream",
          "text": [
            "+-----+----------+------------+------------+------------+------------+-----------+----------+-----+-------------+-----+--------------------+----------------+----------+-------+-----------------+-------------+----------------+-----------------+--------+----------+-----------+----------+----------+--------------+--------------+--------+----------------+----------------+-----------------+--------------------+--------------------+------------+-------------+--------------+-------+----+\n",
            "|ORDEN|CMPLNT_NUM|CMPLNT_FR_DT|CMPLNT_FR_TM|CMPLNT_TO_DT|CMPLNT_TO_TM|ADDR_PCT_CD|    RPT_DT|KY_CD|    OFNS_DESC|PD_CD|             PD_DESC|CRM_ATPT_CPTD_CD|LAW_CAT_CD|BORO_NM|LOC_OF_OCCUR_DESC|PREM_TYP_DESC|      JURIS_DESC|JURISDICTION_CODE|PARKS_NM|HADEVELOPT|HOUSING_PSA|X_COORD_CD|Y_COORD_CD|SUSP_AGE_GROUP|     SUSP_RACE|SUSP_SEX|TRANSIT_DISTRICT|        Latitude|        Longitude|             Lat_Lon|         PATROL_BORO|STATION_NAME|VIC_AGE_GROUP|      VIC_RACE|VIC_SEX|Year|\n",
            "+-----+----------+------------+------------+------------+------------+-----------+----------+-----+-------------+-----+--------------------+----------------+----------+-------+-----------------+-------------+----------------+-----------------+--------+----------+-----------+----------+----------+--------------+--------------+--------+----------------+----------------+-----------------+--------------------+--------------------+------------+-------------+--------------+-------+----+\n",
            "|  105| 183915130|  06/16/2018|    11:38:00|        null|      (null)|      102.0|06/16/2018|  105|      ROBBERY|361.0|        ROBBERY,BANK|       COMPLETED|    FELONY| QUEENS|           INSIDE|         BANK|N.Y. POLICE DEPT|                0|  (null)|    (null)|     (null)| 1027358.0|  188760.0|         45-64|         WHITE|       M|            null|       40.684675|       -73.844567|(40.684675, -73.8...|PATROL BORO QUEEN...|      (null)|      UNKNOWN|       UNKNOWN|      D|2018|\n",
            "|  106| 192830904|  01/18/2019|    17:00:00|        null|      (null)|      108.0|01/28/2019|  116|   SEX CRIMES|177.0|        SEXUAL ABUSE|       COMPLETED|    FELONY| QUEENS|           INSIDE|        OTHER|N.Y. POLICE DEPT|                0|  (null)|    (null)|     (null)|  996424.0|  210017.0|        (null)|        (null)|  (null)|            null|40.7431245994984|-73.9560680726795|(40.7431245994984...|PATROL BORO QUEEN...|      (null)|          <18|WHITE HISPANIC|      F|2019|\n",
            "|  107| 195777958|  04/05/2019|    14:15:00|        null|      (null)|       44.0|04/05/2019|  578|HARRASSMENT 2|638.0|HARASSMENT,SUBD 3...|       COMPLETED| VIOLATION|  BRONX|           (null)|        OTHER|N.Y. POLICE DEPT|                0|  (null)|    (null)|     (null)| 1007276.0|  245280.0|       UNKNOWN|WHITE HISPANIC|       F|            null|     40.83988211|     -73.91678321|(40.83988211, -73...|   PATROL BORO BRONX|      (null)|        25-44|WHITE HISPANIC|      F|2019|\n",
            "+-----+----------+------------+------------+------------+------------+-----------+----------+-----+-------------+-----+--------------------+----------------+----------+-------+-----------------+-------------+----------------+-----------------+--------+----------+-----------+----------+----------+--------------+--------------+--------+----------------+----------------+-----------------+--------------------+--------------------+------------+-------------+--------------+-------+----+\n",
            "only showing top 3 rows\n",
            "\n"
          ]
        }
      ],
      "source": [
        "nypd_df.show(3)"
      ]
    },
    {
      "cell_type": "code",
      "execution_count": null,
      "id": "22bb3360-2aa0-4d58-9a41-b5ba6c2ce081",
      "metadata": {
        "id": "22bb3360-2aa0-4d58-9a41-b5ba6c2ce081",
        "outputId": "5b38b72e-35ff-4fad-aa91-498797959702"
      },
      "outputs": [
        {
          "name": "stdout",
          "output_type": "stream",
          "text": [
            "+-----------+-------+\n",
            "| LAW_CAT_CD|  count|\n",
            "+-----------+-------+\n",
            "|     FELONY| 926314|\n",
            "|MISDEMEANOR|1477344|\n",
            "|  VIOLATION| 454910|\n",
            "+-----------+-------+\n",
            "\n"
          ]
        }
      ],
      "source": [
        "nypd_df.groupBy('LAW_CAT_CD').count().show()"
      ]
    },
    {
      "cell_type": "code",
      "execution_count": null,
      "id": "57425008-9e65-4e51-85e6-258581ee3301",
      "metadata": {
        "id": "57425008-9e65-4e51-85e6-258581ee3301"
      },
      "outputs": [],
      "source": [
        "nypd_2.filter(col(\"CMPLNT_FR_DT\").isNull()).count()"
      ]
    },
    {
      "cell_type": "code",
      "execution_count": null,
      "id": "11428861-cf03-41c6-9611-756dde021993",
      "metadata": {
        "id": "11428861-cf03-41c6-9611-756dde021993"
      },
      "outputs": [],
      "source": [
        "#filtro solo los FELONY.. del"
      ]
    },
    {
      "cell_type": "code",
      "execution_count": null,
      "id": "bfde4996-e473-4209-b954-0ae9db56b1d8",
      "metadata": {
        "id": "bfde4996-e473-4209-b954-0ae9db56b1d8"
      },
      "outputs": [],
      "source": [
        "nypd_felony_df = nypd_df.filter(col(\"LAW_CAT_CD\")==\"FELONY\")"
      ]
    },
    {
      "cell_type": "code",
      "execution_count": null,
      "id": "e15ccbaf-2ac1-40c4-9147-60956dec694f",
      "metadata": {
        "id": "e15ccbaf-2ac1-40c4-9147-60956dec694f",
        "outputId": "aaa92f32-ebf2-49fb-91b5-900f8b7ef24e"
      },
      "outputs": [
        {
          "data": {
            "text/plain": [
              "926314"
            ]
          },
          "execution_count": 36,
          "metadata": {},
          "output_type": "execute_result"
        }
      ],
      "source": [
        "nypd_felony_df.count()"
      ]
    },
    {
      "cell_type": "code",
      "execution_count": null,
      "id": "f3f7b265-feda-4ac6-be7d-05e155d905a4",
      "metadata": {
        "id": "f3f7b265-feda-4ac6-be7d-05e155d905a4"
      },
      "outputs": [],
      "source": [
        "#elimino los campos que no voy a usar"
      ]
    },
    {
      "cell_type": "code",
      "execution_count": null,
      "id": "188076e6-38ac-4a98-8131-9a126284d6f0",
      "metadata": {
        "id": "188076e6-38ac-4a98-8131-9a126284d6f0"
      },
      "outputs": [],
      "source": [
        "nypd_2 = nypd_felony_df.drop(\"ORDEN\",\"CMPLNT_TO_DT\",\"CMPLNT_TO_TM\",\"ADDR_PCT_CD\",\"RPT_DT\",\"KY_CD\",\"PD_CD\",\"JURIS_DESC\",\"JURISDICTION_CODE\",\n",
        "                   \"HADEVELOPT\",\"HOUSING_PSA\",\"X_COORD_CD\",\"Y_COORD_CD\",\"TRANSIT_DISTRICT\",\"PATROL_BORO\",\"STATION_NAME\",\"Lat_Lon\",\n",
        "                  \"PARKS_NM\",\"CRM_ATPT_CPTD_CD\")"
      ]
    },
    {
      "cell_type": "code",
      "execution_count": null,
      "id": "40e847c8-eabc-4ba3-b2f8-2fb1cba490a8",
      "metadata": {
        "scrolled": true,
        "id": "40e847c8-eabc-4ba3-b2f8-2fb1cba490a8",
        "outputId": "4c2854f3-2a46-41bd-be89-f78ea5d162f1"
      },
      "outputs": [
        {
          "name": "stdout",
          "output_type": "stream",
          "text": [
            "+----------+------------+------------+----------+---------------+----------+---------+-----------------+-------------+--------------+---------+--------+----------------+-----------------+-------------+--------------+-------+----+\n",
            "|CMPLNT_NUM|CMPLNT_FR_DT|CMPLNT_FR_TM|OFNS_DESC |PD_DESC        |LAW_CAT_CD|BORO_NM  |LOC_OF_OCCUR_DESC|PREM_TYP_DESC|SUSP_AGE_GROUP|SUSP_RACE|SUSP_SEX|Latitude        |Longitude        |VIC_AGE_GROUP|VIC_RACE      |VIC_SEX|Year|\n",
            "+----------+------------+------------+----------+---------------+----------+---------+-----------------+-------------+--------------+---------+--------+----------------+-----------------+-------------+--------------+-------+----+\n",
            "|183915130 |06/16/2018  |11:38:00    |ROBBERY   |ROBBERY,BANK   |FELONY    |QUEENS   |INSIDE           |BANK         |45-64         |WHITE    |M       |40.684675       |-73.844567       |UNKNOWN      |UNKNOWN       |D      |2018|\n",
            "|192830904 |01/18/2019  |17:00:00    |SEX CRIMES|SEXUAL ABUSE   |FELONY    |QUEENS   |INSIDE           |OTHER        |(null)        |(null)   |(null)  |40.7431245994984|-73.9560680726795|<18          |WHITE HISPANIC|F      |2019|\n",
            "|238829557 |01/06/2022  |23:09:00    |ARSON     |ARSON 2,3,4    |FELONY    |MANHATTAN|INSIDE           |BANK         |UNKNOWN       |UNKNOWN  |U       |40.734408       |-73.990849       |UNKNOWN      |UNKNOWN       |E      |2022|\n",
            "|239387040 |01/19/2022  |15:50:00    |ROBBERY   |ROBBERY,BICYCLE|FELONY    |BRONX    |FRONT OF         |STREET       |UNKNOWN       |UNKNOWN  |M       |40.832505       |-73.914543       |45-64        |BLACK         |M      |2022|\n",
            "|238552254 |12/31/2021  |00:01:00    |RAPE      |RAPE 1         |FELONY    |MANHATTAN|(null)           |STREET       |UNKNOWN       |UNKNOWN  |M       |40.7568201683051|-73.9711432633524|25-44        |WHITE         |F      |2021|\n",
            "+----------+------------+------------+----------+---------------+----------+---------+-----------------+-------------+--------------+---------+--------+----------------+-----------------+-------------+--------------+-------+----+\n",
            "only showing top 5 rows\n",
            "\n"
          ]
        }
      ],
      "source": [
        "nypd_2.show(5,False)"
      ]
    },
    {
      "cell_type": "code",
      "execution_count": null,
      "id": "ae26514b-c9e4-4d4e-9410-bbc05a045970",
      "metadata": {
        "id": "ae26514b-c9e4-4d4e-9410-bbc05a045970"
      },
      "outputs": [],
      "source": [
        "###############Limpieza datos#####################################"
      ]
    },
    {
      "cell_type": "code",
      "execution_count": null,
      "id": "ef1cffed-590c-4ce3-8655-f25f540bf87c",
      "metadata": {
        "id": "ef1cffed-590c-4ce3-8655-f25f540bf87c"
      },
      "outputs": [],
      "source": [
        "##########CMPLNT_FR_DT############################"
      ]
    },
    {
      "cell_type": "code",
      "execution_count": null,
      "id": "0d9999b8-51cb-40e4-a130-7cd03b9ca2dd",
      "metadata": {
        "id": "0d9999b8-51cb-40e4-a130-7cd03b9ca2dd",
        "outputId": "4899dac8-9d0b-4a80-b2d0-fb2ac1a45c2d"
      },
      "outputs": [
        {
          "data": {
            "text/plain": [
              "0"
            ]
          },
          "execution_count": 41,
          "metadata": {},
          "output_type": "execute_result"
        }
      ],
      "source": [
        "nypd_2.filter(col(\"CMPLNT_FR_DT\").isNull()).count()"
      ]
    },
    {
      "cell_type": "code",
      "execution_count": null,
      "id": "5d3f3b3a-5b86-44b6-bc2a-38ff89bec948",
      "metadata": {
        "id": "5d3f3b3a-5b86-44b6-bc2a-38ff89bec948",
        "outputId": "e8b20b32-ad54-45bc-c74f-59336e92ae9c"
      },
      "outputs": [
        {
          "data": {
            "text/plain": [
              "0"
            ]
          },
          "execution_count": 42,
          "metadata": {},
          "output_type": "execute_result"
        }
      ],
      "source": [
        "nypd_2.filter(col(\"CMPLNT_FR_DT\")==\"(null)\").count()"
      ]
    },
    {
      "cell_type": "code",
      "execution_count": null,
      "id": "9afdbd1c-c3fe-4e90-b5be-63f664324a5a",
      "metadata": {
        "id": "9afdbd1c-c3fe-4e90-b5be-63f664324a5a"
      },
      "outputs": [],
      "source": [
        "###############CMPLNT_FR_TM#######################"
      ]
    },
    {
      "cell_type": "code",
      "execution_count": null,
      "id": "c3301c5d-8ffd-4a84-9570-f27dbe700461",
      "metadata": {
        "id": "c3301c5d-8ffd-4a84-9570-f27dbe700461",
        "outputId": "32a77797-6311-47e1-d935-d058ebbe3492"
      },
      "outputs": [
        {
          "data": {
            "text/plain": [
              "0"
            ]
          },
          "execution_count": 48,
          "metadata": {},
          "output_type": "execute_result"
        }
      ],
      "source": [
        "nypd_2.filter(col(\"CMPLNT_FR_TM\").isNull()).count()"
      ]
    },
    {
      "cell_type": "code",
      "execution_count": null,
      "id": "c2193ff3-52d8-413e-a886-3d1030137541",
      "metadata": {
        "id": "c2193ff3-52d8-413e-a886-3d1030137541",
        "outputId": "0352a0d3-e823-4236-d700-760e8fd14446"
      },
      "outputs": [
        {
          "data": {
            "text/plain": [
              "0"
            ]
          },
          "execution_count": 49,
          "metadata": {},
          "output_type": "execute_result"
        }
      ],
      "source": [
        "nypd_2.filter(col(\"CMPLNT_FR_TM\")==\"(null)\").count()"
      ]
    },
    {
      "cell_type": "code",
      "execution_count": null,
      "id": "4c83a51b-0218-4137-a918-6436a45aa02f",
      "metadata": {
        "id": "4c83a51b-0218-4137-a918-6436a45aa02f"
      },
      "outputs": [],
      "source": [
        "###############OFNS_DESC#######################"
      ]
    },
    {
      "cell_type": "code",
      "execution_count": null,
      "id": "49051e67-6b74-4886-8721-4df2cc9a2d32",
      "metadata": {
        "id": "49051e67-6b74-4886-8721-4df2cc9a2d32",
        "outputId": "a625430f-16c6-458e-b4f6-c49ca3e05b78"
      },
      "outputs": [
        {
          "data": {
            "text/plain": [
              "0"
            ]
          },
          "execution_count": 50,
          "metadata": {},
          "output_type": "execute_result"
        }
      ],
      "source": [
        "nypd_2.filter(col(\"OFNS_DESC\").isNull()).count()"
      ]
    },
    {
      "cell_type": "code",
      "execution_count": null,
      "id": "134802c9-70fd-4eeb-87ec-1401c2b07701",
      "metadata": {
        "id": "134802c9-70fd-4eeb-87ec-1401c2b07701",
        "outputId": "44c2ddbf-5332-451f-c814-21e683ff16fc"
      },
      "outputs": [
        {
          "data": {
            "text/plain": [
              "49"
            ]
          },
          "execution_count": 51,
          "metadata": {},
          "output_type": "execute_result"
        }
      ],
      "source": [
        "nypd_2.filter(col(\"OFNS_DESC\")==\"(null)\").count()"
      ]
    },
    {
      "cell_type": "code",
      "execution_count": null,
      "id": "98750ca5-5ae7-4b7d-afaa-fc7f40d4553d",
      "metadata": {
        "id": "98750ca5-5ae7-4b7d-afaa-fc7f40d4553d"
      },
      "outputs": [],
      "source": [
        "nypd_2_t = nypd_2.withColumn(\n",
        "    'OFNS_DESC',\n",
        "    when(col('OFNS_DESC') == '(null)', 'UNKNOWN').otherwise(col('OFNS_DESC'))\n",
        ")"
      ]
    },
    {
      "cell_type": "code",
      "execution_count": null,
      "id": "d72abd73-88ab-4e5d-b0d5-37ea60b98ee4",
      "metadata": {
        "id": "d72abd73-88ab-4e5d-b0d5-37ea60b98ee4",
        "outputId": "b8bf38fb-6332-4ff1-8235-3892c2fd3e38"
      },
      "outputs": [
        {
          "data": {
            "text/plain": [
              "0"
            ]
          },
          "execution_count": 53,
          "metadata": {},
          "output_type": "execute_result"
        }
      ],
      "source": [
        "nypd_2_t.filter(col(\"OFNS_DESC\")==\"(null)\").count()"
      ]
    },
    {
      "cell_type": "code",
      "execution_count": null,
      "id": "a515b3be-7dc3-469d-998f-c89d1454c0a4",
      "metadata": {
        "id": "a515b3be-7dc3-469d-998f-c89d1454c0a4",
        "outputId": "17412b53-55a4-4219-9d91-65eed50a577d"
      },
      "outputs": [
        {
          "name": "stdout",
          "output_type": "stream",
          "text": [
            "+--------------------+------+\n",
            "|           OFNS_DESC| count|\n",
            "+--------------------+------+\n",
            "|       GRAND LARCENY|263458|\n",
            "|      FELONY ASSAULT|138993|\n",
            "|             ROBBERY| 87741|\n",
            "|MISCELLANEOUS PEN...| 84699|\n",
            "|            BURGLARY| 80601|\n",
            "+--------------------+------+\n",
            "only showing top 5 rows\n",
            "\n"
          ]
        }
      ],
      "source": [
        "nypd_2_t.groupBy(\"OFNS_DESC\").count().sort(desc(\"count\")).show(5)"
      ]
    },
    {
      "cell_type": "code",
      "execution_count": null,
      "id": "f6527576-3ce2-453d-8bcc-ee8aa7f052b9",
      "metadata": {
        "id": "f6527576-3ce2-453d-8bcc-ee8aa7f052b9"
      },
      "outputs": [],
      "source": [
        "###############PD_DESC #######################"
      ]
    },
    {
      "cell_type": "code",
      "execution_count": null,
      "id": "113213e5-27f0-480f-8169-e3aff3e3549f",
      "metadata": {
        "id": "113213e5-27f0-480f-8169-e3aff3e3549f",
        "outputId": "27822c90-93c3-4728-fcc0-440088f0868d"
      },
      "outputs": [
        {
          "data": {
            "text/plain": [
              "0"
            ]
          },
          "execution_count": 57,
          "metadata": {},
          "output_type": "execute_result"
        }
      ],
      "source": [
        "nypd_2_t.filter(col(\"PD_DESC\").isNull()).count()"
      ]
    },
    {
      "cell_type": "code",
      "execution_count": null,
      "id": "279b9b1c-5367-4f1d-bc50-4cb042ab54ab",
      "metadata": {
        "id": "279b9b1c-5367-4f1d-bc50-4cb042ab54ab",
        "outputId": "976f0c20-13a6-45a6-c3df-966f3712b207"
      },
      "outputs": [
        {
          "data": {
            "text/plain": [
              "2321"
            ]
          },
          "execution_count": 58,
          "metadata": {},
          "output_type": "execute_result"
        }
      ],
      "source": [
        "nypd_2_t.filter(col(\"PD_DESC\")==\"(null)\").count()"
      ]
    },
    {
      "cell_type": "code",
      "execution_count": null,
      "id": "c6a101c1-bf27-4683-a589-aea11e68df61",
      "metadata": {
        "id": "c6a101c1-bf27-4683-a589-aea11e68df61"
      },
      "outputs": [],
      "source": [
        "nypd_2_t_ok = nypd_2_t.withColumn(\n",
        "    'PD_DESC',\n",
        "    when(col('PD_DESC') == '(null)', 'UNKNOWN').otherwise(col('PD_DESC'))\n",
        ")"
      ]
    },
    {
      "cell_type": "code",
      "execution_count": null,
      "id": "7f9de9d7-067e-46da-b875-36d5abba8665",
      "metadata": {
        "id": "7f9de9d7-067e-46da-b875-36d5abba8665",
        "outputId": "f14f428d-7dba-4da4-a4e9-115688e42fa3"
      },
      "outputs": [
        {
          "data": {
            "text/plain": [
              "0"
            ]
          },
          "execution_count": 60,
          "metadata": {},
          "output_type": "execute_result"
        }
      ],
      "source": [
        "nypd_2_t_ok.filter(col(\"PD_DESC\")==\"(null)\").count()"
      ]
    },
    {
      "cell_type": "code",
      "execution_count": null,
      "id": "0ae91644-ea44-4107-a5b8-92678f341ff1",
      "metadata": {
        "id": "0ae91644-ea44-4107-a5b8-92678f341ff1"
      },
      "outputs": [],
      "source": []
    },
    {
      "cell_type": "code",
      "execution_count": null,
      "id": "029662b5-6f3f-4f3a-a1a0-02fe652dd1e0",
      "metadata": {
        "id": "029662b5-6f3f-4f3a-a1a0-02fe652dd1e0"
      },
      "outputs": [],
      "source": [
        "###############LAW_CAT_CD #######################"
      ]
    },
    {
      "cell_type": "code",
      "execution_count": null,
      "id": "c7ea622b-f504-4f49-bf82-b9fa7cff9241",
      "metadata": {
        "id": "c7ea622b-f504-4f49-bf82-b9fa7cff9241",
        "outputId": "3c154c8d-29a9-4b26-9576-1729b9b61aa8"
      },
      "outputs": [
        {
          "data": {
            "text/plain": [
              "0"
            ]
          },
          "execution_count": 63,
          "metadata": {},
          "output_type": "execute_result"
        }
      ],
      "source": [
        "nypd_2_t_ok.filter(col(\"LAW_CAT_CD\").isNull()).count()"
      ]
    },
    {
      "cell_type": "code",
      "execution_count": null,
      "id": "f4b32a5a-4a13-4224-960f-c1f945b7b9c2",
      "metadata": {
        "id": "f4b32a5a-4a13-4224-960f-c1f945b7b9c2",
        "outputId": "5c3b6a7c-acd7-4868-dd4c-05d81b9e2fe1"
      },
      "outputs": [
        {
          "name": "stdout",
          "output_type": "stream",
          "text": [
            "+----------+------+\n",
            "|LAW_CAT_CD| count|\n",
            "+----------+------+\n",
            "|    FELONY|926314|\n",
            "+----------+------+\n",
            "\n"
          ]
        }
      ],
      "source": [
        "nypd_2_t_ok.groupBy(\"LAW_CAT_CD\").count().sort(desc(\"count\")).show()"
      ]
    },
    {
      "cell_type": "code",
      "execution_count": null,
      "id": "d54260b9-0fa3-4a3a-8017-a84210998f6c",
      "metadata": {
        "id": "d54260b9-0fa3-4a3a-8017-a84210998f6c"
      },
      "outputs": [],
      "source": [
        "####################BORO_NM  #############################"
      ]
    },
    {
      "cell_type": "code",
      "execution_count": null,
      "id": "fc7d2258-0920-40cb-917e-c15e265631d5",
      "metadata": {
        "id": "fc7d2258-0920-40cb-917e-c15e265631d5",
        "outputId": "ebbe2d12-19e4-40bf-c097-f782d06f067a"
      },
      "outputs": [
        {
          "data": {
            "text/plain": [
              "0"
            ]
          },
          "execution_count": 65,
          "metadata": {},
          "output_type": "execute_result"
        }
      ],
      "source": [
        "nypd_2.filter(col(\"BORO_NM\").isNull()).count()"
      ]
    },
    {
      "cell_type": "code",
      "execution_count": null,
      "id": "e23021e0-078b-498b-8ff2-7b9d6f4affb7",
      "metadata": {
        "id": "e23021e0-078b-498b-8ff2-7b9d6f4affb7",
        "outputId": "075e8363-0808-44a8-eaa7-1b144b4f7a8c"
      },
      "outputs": [
        {
          "name": "stdout",
          "output_type": "stream",
          "text": [
            "+-------------+------+\n",
            "|      BORO_NM| count|\n",
            "+-------------+------+\n",
            "|     BROOKLYN|272155|\n",
            "|    MANHATTAN|230527|\n",
            "|       QUEENS|197713|\n",
            "|        BRONX|194129|\n",
            "|STATEN ISLAND| 31693|\n",
            "|       (null)|    97|\n",
            "+-------------+------+\n",
            "\n"
          ]
        }
      ],
      "source": [
        "nypd_2.groupBy(\"BORO_NM\").count().sort(desc(\"count\")).show()"
      ]
    },
    {
      "cell_type": "code",
      "execution_count": null,
      "id": "5cc6704b-8e1e-4719-93f7-da1e709a0d5f",
      "metadata": {
        "id": "5cc6704b-8e1e-4719-93f7-da1e709a0d5f"
      },
      "outputs": [],
      "source": [
        "nypd_3 = nypd_2.withColumn(\n",
        "    'BORO_NM',\n",
        "    when(col('BORO_NM') == '(null)', 'UNKNOWN').otherwise(col('BORO_NM'))\n",
        ")"
      ]
    },
    {
      "cell_type": "code",
      "execution_count": null,
      "id": "167c2bf5-fe04-414e-99db-8c9799746080",
      "metadata": {
        "id": "167c2bf5-fe04-414e-99db-8c9799746080",
        "outputId": "449f8455-dae5-4904-e22a-3dbb01f6d4b5"
      },
      "outputs": [
        {
          "name": "stdout",
          "output_type": "stream",
          "text": [
            "+-------------+------+\n",
            "|      BORO_NM| count|\n",
            "+-------------+------+\n",
            "|     BROOKLYN|272155|\n",
            "|    MANHATTAN|230527|\n",
            "|       QUEENS|197713|\n",
            "|        BRONX|194129|\n",
            "|STATEN ISLAND| 31693|\n",
            "|      UNKNOWN|    97|\n",
            "+-------------+------+\n",
            "\n"
          ]
        }
      ],
      "source": [
        "nypd_3.groupBy(\"BORO_NM\").count().sort(desc(\"count\")).show()"
      ]
    },
    {
      "cell_type": "code",
      "execution_count": null,
      "id": "1c2b4482-a3ed-4a49-b960-23839c1d1c50",
      "metadata": {
        "id": "1c2b4482-a3ed-4a49-b960-23839c1d1c50"
      },
      "outputs": [],
      "source": [
        "#############LOC_OF_OCCUR_DESC############################"
      ]
    },
    {
      "cell_type": "code",
      "execution_count": null,
      "id": "5ddf1485-0463-42be-bc72-9f58ada71684",
      "metadata": {
        "id": "5ddf1485-0463-42be-bc72-9f58ada71684",
        "outputId": "fc963023-0935-44ba-f1d6-c7e46f9a306c"
      },
      "outputs": [
        {
          "data": {
            "text/plain": [
              "0"
            ]
          },
          "execution_count": 69,
          "metadata": {},
          "output_type": "execute_result"
        }
      ],
      "source": [
        "nypd_3.filter(col(\"LOC_OF_OCCUR_DESC\").isNull()).count()"
      ]
    },
    {
      "cell_type": "code",
      "execution_count": null,
      "id": "ccfe595b-1e2d-4060-b103-1e85003ac6f5",
      "metadata": {
        "id": "ccfe595b-1e2d-4060-b103-1e85003ac6f5",
        "outputId": "f95d95c5-8d8b-466d-b03d-054703914fb7"
      },
      "outputs": [
        {
          "name": "stdout",
          "output_type": "stream",
          "text": [
            "+-----------------+------+\n",
            "|LOC_OF_OCCUR_DESC| count|\n",
            "+-----------------+------+\n",
            "|           INSIDE|464369|\n",
            "|         FRONT OF|247013|\n",
            "|           (null)|169499|\n",
            "|      OPPOSITE OF| 24684|\n",
            "|          REAR OF| 19256|\n",
            "|          OUTSIDE|  1493|\n",
            "+-----------------+------+\n",
            "\n"
          ]
        }
      ],
      "source": [
        "nypd_3.groupBy(\"LOC_OF_OCCUR_DESC\").count().sort(desc(\"count\")).show()"
      ]
    },
    {
      "cell_type": "code",
      "execution_count": null,
      "id": "0f5ff19a-8f3e-4fcf-952c-4cdc0d30767c",
      "metadata": {
        "id": "0f5ff19a-8f3e-4fcf-952c-4cdc0d30767c"
      },
      "outputs": [],
      "source": [
        "nypd_3_t = nypd_3.withColumn(\n",
        "    'LOC_OF_OCCUR_DESC',\n",
        "    when(col('LOC_OF_OCCUR_DESC') == '(null)', 'UNKNOWN').otherwise(col('LOC_OF_OCCUR_DESC'))\n",
        ")"
      ]
    },
    {
      "cell_type": "code",
      "execution_count": null,
      "id": "8d3d08b1-fc5c-4de4-bc03-73e2ad0941cf",
      "metadata": {
        "id": "8d3d08b1-fc5c-4de4-bc03-73e2ad0941cf",
        "outputId": "01e5cafb-046c-404d-b66b-8067c5eca6f2"
      },
      "outputs": [
        {
          "name": "stdout",
          "output_type": "stream",
          "text": [
            "+-----------------+------+\n",
            "|LOC_OF_OCCUR_DESC| count|\n",
            "+-----------------+------+\n",
            "|           INSIDE|464369|\n",
            "|         FRONT OF|247013|\n",
            "|          UNKNOWN|169499|\n",
            "|      OPPOSITE OF| 24684|\n",
            "|          REAR OF| 19256|\n",
            "|          OUTSIDE|  1493|\n",
            "+-----------------+------+\n",
            "\n"
          ]
        }
      ],
      "source": [
        "nypd_3_t.groupBy(\"LOC_OF_OCCUR_DESC\").count().sort(desc(\"count\")).show()"
      ]
    },
    {
      "cell_type": "code",
      "execution_count": null,
      "id": "6889f3eb-efee-4039-9fca-9561ade63727",
      "metadata": {
        "id": "6889f3eb-efee-4039-9fca-9561ade63727"
      },
      "outputs": [],
      "source": []
    },
    {
      "cell_type": "code",
      "execution_count": null,
      "id": "db3a5ac9-f33d-420e-bb23-81b61be597c2",
      "metadata": {
        "id": "db3a5ac9-f33d-420e-bb23-81b61be597c2"
      },
      "outputs": [],
      "source": [
        "###############PREM_TYP_DESC#######################"
      ]
    },
    {
      "cell_type": "code",
      "execution_count": null,
      "id": "22d2d823-2463-44d2-82a0-fea00c4150cb",
      "metadata": {
        "id": "22d2d823-2463-44d2-82a0-fea00c4150cb",
        "outputId": "bd62b51a-d2d7-45c7-e32c-1f8dfa1054a4"
      },
      "outputs": [
        {
          "data": {
            "text/plain": [
              "0"
            ]
          },
          "execution_count": 74,
          "metadata": {},
          "output_type": "execute_result"
        }
      ],
      "source": [
        "nypd_3_t.filter(col(\"PREM_TYP_DESC\").isNull()).count()"
      ]
    },
    {
      "cell_type": "code",
      "execution_count": null,
      "id": "78382e2e-bec3-4620-9ea5-47a345a40696",
      "metadata": {
        "id": "78382e2e-bec3-4620-9ea5-47a345a40696",
        "outputId": "21adb2a9-0df4-45ac-c058-fa185e249c95"
      },
      "outputs": [
        {
          "name": "stdout",
          "output_type": "stream",
          "text": [
            "+--------------------------+------+\n",
            "|PREM_TYP_DESC             |count |\n",
            "+--------------------------+------+\n",
            "|STREET                    |308824|\n",
            "|RESIDENCE - APT. HOUSE    |194973|\n",
            "|RESIDENCE-HOUSE           |87593 |\n",
            "|RESIDENCE - PUBLIC HOUSING|55713 |\n",
            "|TRANSIT - NYC SUBWAY      |25513 |\n",
            "|COMMERCIAL BUILDING       |23416 |\n",
            "|CHAIN STORE               |20556 |\n",
            "|OTHER                     |20056 |\n",
            "|RESTAURANT/DINER          |14812 |\n",
            "|GROCERY/BODEGA            |14335 |\n",
            "|DEPARTMENT STORE          |13123 |\n",
            "|BAR/NIGHT CLUB            |10088 |\n",
            "|PARK/PLAYGROUND           |9526  |\n",
            "|CLOTHING/BOUTIQUE         |8189  |\n",
            "|(null)                    |8104  |\n",
            "+--------------------------+------+\n",
            "only showing top 15 rows\n",
            "\n"
          ]
        }
      ],
      "source": [
        "nypd_3_t.groupBy(\"PREM_TYP_DESC\").count().sort(desc(\"count\")).show(15, False)"
      ]
    },
    {
      "cell_type": "code",
      "execution_count": null,
      "id": "7e129be6-a85b-4dd0-a9cd-278e4ab646ba",
      "metadata": {
        "id": "7e129be6-a85b-4dd0-a9cd-278e4ab646ba"
      },
      "outputs": [],
      "source": [
        "nypd_4 = nypd_3_t.withColumn(\n",
        "    'PREM_TYP_DESC',\n",
        "    when(col('PREM_TYP_DESC') == '(null)', 'UNKNOWN').otherwise(col('PREM_TYP_DESC'))\n",
        ")"
      ]
    },
    {
      "cell_type": "code",
      "execution_count": null,
      "id": "7c5bbde1-69d7-4fdc-8b70-f45fbda85841",
      "metadata": {
        "id": "7c5bbde1-69d7-4fdc-8b70-f45fbda85841",
        "outputId": "0f20670d-1fc2-494c-dd08-4ffe74a24d7d"
      },
      "outputs": [
        {
          "name": "stdout",
          "output_type": "stream",
          "text": [
            "+--------------------------+------+\n",
            "|PREM_TYP_DESC             |count |\n",
            "+--------------------------+------+\n",
            "|STREET                    |308824|\n",
            "|RESIDENCE - APT. HOUSE    |194973|\n",
            "|RESIDENCE-HOUSE           |87593 |\n",
            "|RESIDENCE - PUBLIC HOUSING|55713 |\n",
            "|TRANSIT - NYC SUBWAY      |25513 |\n",
            "|COMMERCIAL BUILDING       |23416 |\n",
            "|CHAIN STORE               |20556 |\n",
            "|OTHER                     |20056 |\n",
            "|RESTAURANT/DINER          |14812 |\n",
            "|GROCERY/BODEGA            |14335 |\n",
            "|DEPARTMENT STORE          |13123 |\n",
            "|BAR/NIGHT CLUB            |10088 |\n",
            "|PARK/PLAYGROUND           |9526  |\n",
            "|CLOTHING/BOUTIQUE         |8189  |\n",
            "|UNKNOWN                   |8104  |\n",
            "+--------------------------+------+\n",
            "only showing top 15 rows\n",
            "\n"
          ]
        }
      ],
      "source": [
        "nypd_4.groupBy(\"PREM_TYP_DESC\").count().sort(desc(\"count\")).show(15, False)"
      ]
    },
    {
      "cell_type": "code",
      "execution_count": null,
      "id": "bc7111d6-2b0f-4701-9480-6b236d4a34a4",
      "metadata": {
        "id": "bc7111d6-2b0f-4701-9480-6b236d4a34a4"
      },
      "outputs": [],
      "source": [
        "###############SUSP_AGE_GROUP#######################"
      ]
    },
    {
      "cell_type": "code",
      "execution_count": null,
      "id": "7ce3a00d-57f0-47ac-b1e5-bccd054d4db8",
      "metadata": {
        "id": "7ce3a00d-57f0-47ac-b1e5-bccd054d4db8",
        "outputId": "c452cd8e-049d-4963-8af8-fda69d4f46c0"
      },
      "outputs": [
        {
          "data": {
            "text/plain": [
              "0"
            ]
          },
          "execution_count": 78,
          "metadata": {},
          "output_type": "execute_result"
        }
      ],
      "source": [
        "nypd_4.filter(col(\"SUSP_AGE_GROUP\").isNull()).count()"
      ]
    },
    {
      "cell_type": "code",
      "execution_count": null,
      "id": "cf60e2ff-9943-4f98-905b-3e8b4725f13a",
      "metadata": {
        "id": "cf60e2ff-9943-4f98-905b-3e8b4725f13a",
        "outputId": "c2881dc8-6f32-4526-cb10-253dc147b75f"
      },
      "outputs": [
        {
          "name": "stdout",
          "output_type": "stream",
          "text": [
            "+--------------+------+\n",
            "|SUSP_AGE_GROUP|count |\n",
            "+--------------+------+\n",
            "|UNKNOWN       |333062|\n",
            "|25-44         |217636|\n",
            "|(null)        |215922|\n",
            "|18-24         |72971 |\n",
            "|45-64         |64861 |\n",
            "|<18           |16893 |\n",
            "|65+           |4898  |\n",
            "|2022          |8     |\n",
            "|2018          |6     |\n",
            "|2021          |6     |\n",
            "+--------------+------+\n",
            "only showing top 10 rows\n",
            "\n"
          ]
        }
      ],
      "source": [
        "nypd_4.groupBy(\"SUSP_AGE_GROUP\").count().sort(desc(\"count\")).show(10, False)"
      ]
    },
    {
      "cell_type": "code",
      "execution_count": null,
      "id": "74404b26-f9fa-4802-aa81-a6c20df89683",
      "metadata": {
        "id": "74404b26-f9fa-4802-aa81-a6c20df89683"
      },
      "outputs": [],
      "source": [
        "nypd_5 = nypd_4.withColumn(\n",
        "    'SUSP_AGE_GROUP',\n",
        "    when(~col('SUSP_AGE_GROUP').isin(\"UNKNOWN\",\"25-44\",\"45-64\",\"18-24\",\"<18\",\"65+\"), 'UNKNOWN').otherwise(col('SUSP_AGE_GROUP'))\n",
        ")"
      ]
    },
    {
      "cell_type": "code",
      "execution_count": null,
      "id": "2332c998-6c02-4e73-ad35-eccb53fdb739",
      "metadata": {
        "id": "2332c998-6c02-4e73-ad35-eccb53fdb739",
        "outputId": "57256f8c-a2b3-449d-82ae-a7b30b79c443"
      },
      "outputs": [
        {
          "name": "stdout",
          "output_type": "stream",
          "text": [
            "+--------------+------+\n",
            "|SUSP_AGE_GROUP|count |\n",
            "+--------------+------+\n",
            "|UNKNOWN       |549055|\n",
            "|25-44         |217636|\n",
            "|18-24         |72971 |\n",
            "|45-64         |64861 |\n",
            "|<18           |16893 |\n",
            "|65+           |4898  |\n",
            "+--------------+------+\n",
            "\n"
          ]
        }
      ],
      "source": [
        "nypd_5.groupBy(\"SUSP_AGE_GROUP\").count().sort(desc(\"count\")).show(10, False)"
      ]
    },
    {
      "cell_type": "code",
      "execution_count": null,
      "id": "9c8e8426-338e-413f-bfa6-bbe66d51b5ed",
      "metadata": {
        "id": "9c8e8426-338e-413f-bfa6-bbe66d51b5ed"
      },
      "outputs": [],
      "source": [
        "###############SUSP_RACE#######################"
      ]
    },
    {
      "cell_type": "code",
      "execution_count": null,
      "id": "e7017f2a-03ec-4cc5-b005-186e463c8579",
      "metadata": {
        "id": "e7017f2a-03ec-4cc5-b005-186e463c8579",
        "outputId": "a75cbb25-f809-433b-f1e5-ad0b6e8cc08f"
      },
      "outputs": [
        {
          "data": {
            "text/plain": [
              "0"
            ]
          },
          "execution_count": 82,
          "metadata": {},
          "output_type": "execute_result"
        }
      ],
      "source": [
        "nypd_5.filter(col(\"SUSP_RACE\").isNull()).count()"
      ]
    },
    {
      "cell_type": "code",
      "execution_count": null,
      "id": "07097b7b-cb36-4586-b1f3-5310633937df",
      "metadata": {
        "id": "07097b7b-cb36-4586-b1f3-5310633937df",
        "outputId": "0e9ea7e7-3f1a-4c83-d8f9-8b4d013f7732"
      },
      "outputs": [
        {
          "name": "stdout",
          "output_type": "stream",
          "text": [
            "+------------------------------+------+\n",
            "|SUSP_RACE                     |count |\n",
            "+------------------------------+------+\n",
            "|BLACK                         |253000|\n",
            "|UNKNOWN                       |245404|\n",
            "|(null)                        |215922|\n",
            "|WHITE HISPANIC                |105639|\n",
            "|WHITE                         |46716 |\n",
            "|BLACK HISPANIC                |36418 |\n",
            "|ASIAN / PACIFIC ISLANDER      |22005 |\n",
            "|AMERICAN INDIAN/ALASKAN NATIVE|1210  |\n",
            "+------------------------------+------+\n",
            "\n"
          ]
        }
      ],
      "source": [
        "nypd_5.groupBy(\"SUSP_RACE\").count().sort(desc(\"count\")).show(10, False)"
      ]
    },
    {
      "cell_type": "code",
      "execution_count": null,
      "id": "ccab02e2-fa47-43a5-b113-49924104ea4c",
      "metadata": {
        "id": "ccab02e2-fa47-43a5-b113-49924104ea4c"
      },
      "outputs": [],
      "source": [
        "nypd_6 = nypd_5.withColumn(\n",
        "    'SUSP_RACE',\n",
        "    when(col('SUSP_RACE') == '(null)', 'UNKNOWN').otherwise(col('SUSP_RACE'))\n",
        ")"
      ]
    },
    {
      "cell_type": "code",
      "execution_count": null,
      "id": "2fdc2d3a-e0a1-4bf8-bef7-a53f9441fa00",
      "metadata": {
        "id": "2fdc2d3a-e0a1-4bf8-bef7-a53f9441fa00",
        "outputId": "0c425557-5825-4079-c3f5-8a110fa8ff4e"
      },
      "outputs": [
        {
          "name": "stdout",
          "output_type": "stream",
          "text": [
            "+------------------------------+------+\n",
            "|SUSP_RACE                     |count |\n",
            "+------------------------------+------+\n",
            "|UNKNOWN                       |461326|\n",
            "|BLACK                         |253000|\n",
            "|WHITE HISPANIC                |105639|\n",
            "|WHITE                         |46716 |\n",
            "|BLACK HISPANIC                |36418 |\n",
            "|ASIAN / PACIFIC ISLANDER      |22005 |\n",
            "|AMERICAN INDIAN/ALASKAN NATIVE|1210  |\n",
            "+------------------------------+------+\n",
            "\n"
          ]
        }
      ],
      "source": [
        "nypd_6.groupBy(\"SUSP_RACE\").count().sort(desc(\"count\")).show(10, False)"
      ]
    },
    {
      "cell_type": "code",
      "execution_count": null,
      "id": "4926e792-4405-4d3f-afb8-c9e473b7a2d3",
      "metadata": {
        "id": "4926e792-4405-4d3f-afb8-c9e473b7a2d3"
      },
      "outputs": [],
      "source": []
    },
    {
      "cell_type": "code",
      "execution_count": null,
      "id": "5f9643d7-9a86-4b6d-8f33-31670c558508",
      "metadata": {
        "id": "5f9643d7-9a86-4b6d-8f33-31670c558508"
      },
      "outputs": [],
      "source": [
        "###############SUSP_SEX#######################|     |"
      ]
    },
    {
      "cell_type": "code",
      "execution_count": null,
      "id": "b91128ca-d9e4-4fa1-a9a8-5bfbcf8a79d4",
      "metadata": {
        "id": "b91128ca-d9e4-4fa1-a9a8-5bfbcf8a79d4",
        "outputId": "8511b44b-ffdb-4bd9-c402-4866fda06a94"
      },
      "outputs": [
        {
          "data": {
            "text/plain": [
              "0"
            ]
          },
          "execution_count": 86,
          "metadata": {},
          "output_type": "execute_result"
        }
      ],
      "source": [
        "nypd_6.filter(col(\"SUSP_SEX\").isNull()).count()"
      ]
    },
    {
      "cell_type": "code",
      "execution_count": null,
      "id": "37bd8433-47a0-48d8-b060-13b9aa85a833",
      "metadata": {
        "id": "37bd8433-47a0-48d8-b060-13b9aa85a833",
        "outputId": "ead1847e-62ef-49d1-f8b3-5e554f85fd1c"
      },
      "outputs": [
        {
          "name": "stdout",
          "output_type": "stream",
          "text": [
            "+--------+------+\n",
            "|SUSP_SEX|count |\n",
            "+--------+------+\n",
            "|M       |420368|\n",
            "|(null)  |215922|\n",
            "|U       |215817|\n",
            "|F       |74207 |\n",
            "+--------+------+\n",
            "\n"
          ]
        }
      ],
      "source": [
        "nypd_6.groupBy(\"SUSP_SEX\").count().sort(desc(\"count\")).show(10, False)"
      ]
    },
    {
      "cell_type": "code",
      "execution_count": null,
      "id": "aceef946-93ea-4762-a593-88bd5f3037da",
      "metadata": {
        "id": "aceef946-93ea-4762-a593-88bd5f3037da"
      },
      "outputs": [],
      "source": [
        "nypd_7 = nypd_6.withColumn(\n",
        "    'SUSP_SEX',\n",
        "    when(col('SUSP_SEX') == '(null)', 'U').otherwise(col('SUSP_SEX'))\n",
        ")"
      ]
    },
    {
      "cell_type": "code",
      "execution_count": null,
      "id": "72221b2d-78f0-4903-9291-3ac967f12841",
      "metadata": {
        "id": "72221b2d-78f0-4903-9291-3ac967f12841",
        "outputId": "ff764fa4-61d8-4559-f38e-e8bac4c437ae"
      },
      "outputs": [
        {
          "name": "stdout",
          "output_type": "stream",
          "text": [
            "+--------+------+\n",
            "|SUSP_SEX|count |\n",
            "+--------+------+\n",
            "|U       |431739|\n",
            "|M       |420368|\n",
            "|F       |74207 |\n",
            "+--------+------+\n",
            "\n"
          ]
        }
      ],
      "source": [
        "nypd_7.groupBy(\"SUSP_SEX\").count().sort(desc(\"count\")).show(10, False)"
      ]
    },
    {
      "cell_type": "code",
      "execution_count": null,
      "id": "ae1bdd41-4da9-4da7-9326-d4416ec41368",
      "metadata": {
        "id": "ae1bdd41-4da9-4da7-9326-d4416ec41368"
      },
      "outputs": [],
      "source": [
        "###############Latitude#######################"
      ]
    },
    {
      "cell_type": "code",
      "execution_count": null,
      "id": "5bb5d9db-7d88-4df7-b406-4c4762b65507",
      "metadata": {
        "id": "5bb5d9db-7d88-4df7-b406-4c4762b65507",
        "outputId": "71c24195-6dc6-42ce-a449-18bdff203d2b"
      },
      "outputs": [
        {
          "data": {
            "text/plain": [
              "15"
            ]
          },
          "execution_count": 90,
          "metadata": {},
          "output_type": "execute_result"
        }
      ],
      "source": [
        "nypd_7.filter(col(\"Latitude\").isNull()).count()"
      ]
    },
    {
      "cell_type": "code",
      "execution_count": null,
      "id": "1fa46c75-dfd0-4f7e-bfc0-d31395880055",
      "metadata": {
        "id": "1fa46c75-dfd0-4f7e-bfc0-d31395880055",
        "outputId": "7865e16d-2054-4635-d627-386d891244d4"
      },
      "outputs": [
        {
          "data": {
            "text/plain": [
              "0"
            ]
          },
          "execution_count": 93,
          "metadata": {},
          "output_type": "execute_result"
        }
      ],
      "source": [
        "nypd_7.filter(col(\"Latitude\")==\"(null)\").count()"
      ]
    },
    {
      "cell_type": "code",
      "execution_count": null,
      "id": "c4688f0b-bd80-4793-bae2-8e42f9e927f3",
      "metadata": {
        "id": "c4688f0b-bd80-4793-bae2-8e42f9e927f3"
      },
      "outputs": [],
      "source": [
        "###############Longitude#######################"
      ]
    },
    {
      "cell_type": "code",
      "execution_count": null,
      "id": "25be2eb4-393a-41a6-8417-5bbd10e35856",
      "metadata": {
        "id": "25be2eb4-393a-41a6-8417-5bbd10e35856",
        "outputId": "5b6619b5-5056-4f27-c104-052478325022"
      },
      "outputs": [
        {
          "data": {
            "text/plain": [
              "15"
            ]
          },
          "execution_count": 92,
          "metadata": {},
          "output_type": "execute_result"
        }
      ],
      "source": [
        "nypd_7.filter(col(\"Longitude\").isNull()).count()"
      ]
    },
    {
      "cell_type": "code",
      "execution_count": null,
      "id": "ac1706c5-29c4-45ce-b511-8dc2b7e4e38b",
      "metadata": {
        "id": "ac1706c5-29c4-45ce-b511-8dc2b7e4e38b",
        "outputId": "c1073d21-a83f-4420-ee06-73f21581d321"
      },
      "outputs": [
        {
          "data": {
            "text/plain": [
              "0"
            ]
          },
          "execution_count": 94,
          "metadata": {},
          "output_type": "execute_result"
        }
      ],
      "source": [
        "nypd_7.filter(col(\"Longitude\")==\"(null)\").count()"
      ]
    },
    {
      "cell_type": "code",
      "execution_count": null,
      "id": "993b690a-0b9b-4efb-8ade-007c19e55c9e",
      "metadata": {
        "id": "993b690a-0b9b-4efb-8ade-007c19e55c9e"
      },
      "outputs": [],
      "source": [
        "###############VIC_AGE_GROUP#######################"
      ]
    },
    {
      "cell_type": "code",
      "execution_count": null,
      "id": "c5687f39-fdc6-4d81-aa9d-67a3a6fb06a0",
      "metadata": {
        "id": "c5687f39-fdc6-4d81-aa9d-67a3a6fb06a0",
        "outputId": "796366cb-c972-471b-cc35-2ad7bc612060"
      },
      "outputs": [
        {
          "data": {
            "text/plain": [
              "0"
            ]
          },
          "execution_count": 95,
          "metadata": {},
          "output_type": "execute_result"
        }
      ],
      "source": [
        "nypd_7.filter(col(\"VIC_AGE_GROUP\").isNull()).count()"
      ]
    },
    {
      "cell_type": "code",
      "execution_count": null,
      "id": "a5335e8c-ca72-4413-a72f-ba4d6978f033",
      "metadata": {
        "id": "a5335e8c-ca72-4413-a72f-ba4d6978f033",
        "outputId": "cc08d3ed-4a0b-485d-bffa-7961d46ca258"
      },
      "outputs": [
        {
          "name": "stdout",
          "output_type": "stream",
          "text": [
            "+-------------+------+\n",
            "|VIC_AGE_GROUP|count |\n",
            "+-------------+------+\n",
            "|25-44        |333835|\n",
            "|UNKNOWN      |252099|\n",
            "|45-64        |169387|\n",
            "|18-24        |86147 |\n",
            "|65+          |56261 |\n",
            "|<18          |28537 |\n",
            "|-970         |3     |\n",
            "|-967         |2     |\n",
            "|-4           |2     |\n",
            "|-954         |2     |\n",
            "+-------------+------+\n",
            "only showing top 10 rows\n",
            "\n"
          ]
        }
      ],
      "source": [
        "nypd_7.groupBy(\"VIC_AGE_GROUP\").count().sort(desc(\"count\")).show(10, False)"
      ]
    },
    {
      "cell_type": "code",
      "execution_count": null,
      "id": "1fb94e24-bc73-49a8-85b1-4c6e3e65a13b",
      "metadata": {
        "id": "1fb94e24-bc73-49a8-85b1-4c6e3e65a13b"
      },
      "outputs": [],
      "source": [
        "nypd_8 = nypd_7.withColumn(\n",
        "    'VIC_AGE_GROUP',\n",
        "    when(~col('VIC_AGE_GROUP').isin(\"UNKNOWN\",\"25-44\",\"45-64\",\"18-24\",\"<18\",\"65+\"), 'UNKNOWN').otherwise(col('VIC_AGE_GROUP'))\n",
        ")"
      ]
    },
    {
      "cell_type": "code",
      "execution_count": null,
      "id": "0d1a4018-fd84-4fff-af85-e09d16bf2648",
      "metadata": {
        "id": "0d1a4018-fd84-4fff-af85-e09d16bf2648",
        "outputId": "a4260e6b-017a-4799-a7bd-8d688f69d219"
      },
      "outputs": [
        {
          "name": "stdout",
          "output_type": "stream",
          "text": [
            "+-------------+------+\n",
            "|VIC_AGE_GROUP|count |\n",
            "+-------------+------+\n",
            "|25-44        |333835|\n",
            "|UNKNOWN      |252147|\n",
            "|45-64        |169387|\n",
            "|18-24        |86147 |\n",
            "|65+          |56261 |\n",
            "|<18          |28537 |\n",
            "+-------------+------+\n",
            "\n"
          ]
        }
      ],
      "source": [
        "nypd_8.groupBy(\"VIC_AGE_GROUP\").count().sort(desc(\"count\")).show(10, False)"
      ]
    },
    {
      "cell_type": "code",
      "execution_count": null,
      "id": "d33543c5-bea6-49c5-aa1b-af6eefe3d940",
      "metadata": {
        "id": "d33543c5-bea6-49c5-aa1b-af6eefe3d940"
      },
      "outputs": [],
      "source": [
        "###############VIC_RACE#######################"
      ]
    },
    {
      "cell_type": "code",
      "execution_count": null,
      "id": "56048b95-3334-4432-bf3c-b527705f774a",
      "metadata": {
        "id": "56048b95-3334-4432-bf3c-b527705f774a",
        "outputId": "67d65639-ce78-4705-93d9-98e821666b0f"
      },
      "outputs": [
        {
          "data": {
            "text/plain": [
              "0"
            ]
          },
          "execution_count": 99,
          "metadata": {},
          "output_type": "execute_result"
        }
      ],
      "source": [
        "nypd_8.filter(col(\"VIC_RACE\").isNull()).count()"
      ]
    },
    {
      "cell_type": "code",
      "execution_count": null,
      "id": "782c87f0-8169-4ef2-beff-7480191443a8",
      "metadata": {
        "id": "782c87f0-8169-4ef2-beff-7480191443a8",
        "outputId": "8513d3b4-b4b3-4194-f9ef-4a25d9060ae9"
      },
      "outputs": [
        {
          "name": "stdout",
          "output_type": "stream",
          "text": [
            "+------------------------------+------+\n",
            "|VIC_RACE                      |count |\n",
            "+------------------------------+------+\n",
            "|UNKNOWN                       |273193|\n",
            "|BLACK                         |209865|\n",
            "|WHITE HISPANIC                |161281|\n",
            "|WHITE                         |154315|\n",
            "|ASIAN / PACIFIC ISLANDER      |84804 |\n",
            "|BLACK HISPANIC                |39128 |\n",
            "|AMERICAN INDIAN/ALASKAN NATIVE|3728  |\n",
            "+------------------------------+------+\n",
            "\n"
          ]
        }
      ],
      "source": [
        "nypd_8.groupBy(\"VIC_RACE\").count().sort(desc(\"count\")).show(20, False)"
      ]
    },
    {
      "cell_type": "code",
      "execution_count": null,
      "id": "8c728a59-0dbf-4515-9404-a9e653767daa",
      "metadata": {
        "id": "8c728a59-0dbf-4515-9404-a9e653767daa"
      },
      "outputs": [],
      "source": [
        "nypd_9 = nypd_8.withColumn(\n",
        "    'VIC_RACE',\n",
        "    when(col('VIC_RACE') == '(null)', 'UNKNOWN').otherwise(col('VIC_RACE'))\n",
        ")"
      ]
    },
    {
      "cell_type": "code",
      "execution_count": null,
      "id": "32ea1c9a-fd43-4ee7-a4df-a0e540f9f66a",
      "metadata": {
        "id": "32ea1c9a-fd43-4ee7-a4df-a0e540f9f66a",
        "outputId": "6bf8db25-e5aa-42a4-ba81-a37825536e19"
      },
      "outputs": [
        {
          "name": "stdout",
          "output_type": "stream",
          "text": [
            "+------------------------------+------+\n",
            "|VIC_RACE                      |count |\n",
            "+------------------------------+------+\n",
            "|UNKNOWN                       |273193|\n",
            "|BLACK                         |209865|\n",
            "|WHITE HISPANIC                |161281|\n",
            "|WHITE                         |154315|\n",
            "|ASIAN / PACIFIC ISLANDER      |84804 |\n",
            "|BLACK HISPANIC                |39128 |\n",
            "|AMERICAN INDIAN/ALASKAN NATIVE|3728  |\n",
            "+------------------------------+------+\n",
            "\n"
          ]
        }
      ],
      "source": [
        "nypd_9.groupBy(\"VIC_RACE\").count().sort(desc(\"count\")).show(20, False)"
      ]
    },
    {
      "cell_type": "code",
      "execution_count": null,
      "id": "b5c2a944-207a-49bf-9ca4-041047af8a47",
      "metadata": {
        "id": "b5c2a944-207a-49bf-9ca4-041047af8a47"
      },
      "outputs": [],
      "source": [
        "###############VIC_SEX#######################|      |"
      ]
    },
    {
      "cell_type": "code",
      "execution_count": null,
      "id": "eabe02a6-f6a6-4f10-8956-b3275048c04d",
      "metadata": {
        "id": "eabe02a6-f6a6-4f10-8956-b3275048c04d",
        "outputId": "b59bed35-2b8a-441e-cfb3-6fd68b87137a"
      },
      "outputs": [
        {
          "data": {
            "text/plain": [
              "0"
            ]
          },
          "execution_count": 103,
          "metadata": {},
          "output_type": "execute_result"
        }
      ],
      "source": [
        "nypd_9.filter(col(\"VIC_SEX\").isNull()).count()"
      ]
    },
    {
      "cell_type": "code",
      "execution_count": null,
      "id": "26884547-c099-4778-b9b4-3b762ef19db9",
      "metadata": {
        "id": "26884547-c099-4778-b9b4-3b762ef19db9",
        "outputId": "f2f59fef-b76d-4506-fbfe-4b02b5ab734c"
      },
      "outputs": [
        {
          "name": "stdout",
          "output_type": "stream",
          "text": [
            "+-------+------+\n",
            "|VIC_SEX|count |\n",
            "+-------+------+\n",
            "|M      |366031|\n",
            "|F      |320909|\n",
            "|D      |128665|\n",
            "|E      |106458|\n",
            "|L      |4250  |\n",
            "|U      |1     |\n",
            "+-------+------+\n",
            "\n"
          ]
        }
      ],
      "source": [
        "nypd_9.groupBy(\"VIC_SEX\").count().sort(desc(\"count\")).show(20, False)"
      ]
    },
    {
      "cell_type": "code",
      "execution_count": null,
      "id": "20ba64d1-5ad0-4b4e-971c-10658dd63918",
      "metadata": {
        "id": "20ba64d1-5ad0-4b4e-971c-10658dd63918"
      },
      "outputs": [],
      "source": [
        "nypd_10 = nypd_9.withColumn(\n",
        "    'VIC_SEX',\n",
        "    when(~col('VIC_SEX').isin(\"F\",\"M\",\"D\",\"E\"), 'U').otherwise(col('VIC_SEX'))\n",
        ")"
      ]
    },
    {
      "cell_type": "code",
      "execution_count": null,
      "id": "f2134924-e893-42ad-9935-44e53cefbe8d",
      "metadata": {
        "id": "f2134924-e893-42ad-9935-44e53cefbe8d",
        "outputId": "ef11569c-ee8a-4ba6-a24e-af9e41115c15"
      },
      "outputs": [
        {
          "name": "stdout",
          "output_type": "stream",
          "text": [
            "+-------+------+\n",
            "|VIC_SEX|count |\n",
            "+-------+------+\n",
            "|M      |366031|\n",
            "|F      |320909|\n",
            "|D      |128665|\n",
            "|E      |106458|\n",
            "|U      |4251  |\n",
            "+-------+------+\n",
            "\n"
          ]
        }
      ],
      "source": [
        "nypd_10.groupBy(\"VIC_SEX\").count().sort(desc(\"count\")).show(20, False)"
      ]
    },
    {
      "cell_type": "code",
      "execution_count": null,
      "id": "4b5d5f66-beac-41b6-86b5-953aaa34aad7",
      "metadata": {
        "id": "4b5d5f66-beac-41b6-86b5-953aaa34aad7"
      },
      "outputs": [],
      "source": [
        "#################"
      ]
    },
    {
      "cell_type": "code",
      "execution_count": null,
      "id": "36751cef-0299-49e7-8e2a-75c1c0a12cb3",
      "metadata": {
        "id": "36751cef-0299-49e7-8e2a-75c1c0a12cb3"
      },
      "outputs": [],
      "source": [
        "nypd_10.coalesce(1).write.csv(\"NYPD_2018_2023_FELONY.csv\",header=True)\n"
      ]
    },
    {
      "cell_type": "code",
      "execution_count": null,
      "id": "90f4d968-26e6-4d13-8b7a-395af3725211",
      "metadata": {
        "id": "90f4d968-26e6-4d13-8b7a-395af3725211"
      },
      "outputs": [],
      "source": [
        "######################################################"
      ]
    },
    {
      "cell_type": "code",
      "execution_count": null,
      "id": "08621987-a87c-4a9d-ab4a-674c45cf89eb",
      "metadata": {
        "id": "08621987-a87c-4a9d-ab4a-674c45cf89eb"
      },
      "outputs": [],
      "source": [
        "nypd_felony_2018_2023 = spark.read.csv('NYPD_2018_2023_FELONY.csv', header = True, sep = \",\")"
      ]
    },
    {
      "cell_type": "code",
      "execution_count": null,
      "id": "1fac487a-f3a8-47da-be07-2ce4b91d1bb3",
      "metadata": {
        "scrolled": true,
        "id": "1fac487a-f3a8-47da-be07-2ce4b91d1bb3",
        "outputId": "8766739b-fa60-4596-f3e6-3c9e91df1841"
      },
      "outputs": [
        {
          "name": "stdout",
          "output_type": "stream",
          "text": [
            "+----------+------------+------------+----------+------------+----------+---------+-----------------+-------------+--------------+---------+--------+----------------+-----------------+-------------+--------------+-------+----+\n",
            "|CMPLNT_NUM|CMPLNT_FR_DT|CMPLNT_FR_TM| OFNS_DESC|     PD_DESC|LAW_CAT_CD|  BORO_NM|LOC_OF_OCCUR_DESC|PREM_TYP_DESC|SUSP_AGE_GROUP|SUSP_RACE|SUSP_SEX|        Latitude|        Longitude|VIC_AGE_GROUP|      VIC_RACE|VIC_SEX|Year|\n",
            "+----------+------------+------------+----------+------------+----------+---------+-----------------+-------------+--------------+---------+--------+----------------+-----------------+-------------+--------------+-------+----+\n",
            "| 183915130|  06/16/2018|    11:38:00|   ROBBERY|ROBBERY,BANK|    FELONY|   QUEENS|           INSIDE|         BANK|         45-64|    WHITE|       M|       40.684675|       -73.844567|      UNKNOWN|       UNKNOWN|      D|2018|\n",
            "| 192830904|  01/18/2019|    17:00:00|SEX CRIMES|SEXUAL ABUSE|    FELONY|   QUEENS|           INSIDE|        OTHER|       UNKNOWN|  UNKNOWN|       U|40.7431245994984|-73.9560680726795|          <18|WHITE HISPANIC|      F|2019|\n",
            "| 238829557|  01/06/2022|    23:09:00|     ARSON| ARSON 2,3,4|    FELONY|MANHATTAN|           INSIDE|         BANK|       UNKNOWN|  UNKNOWN|       U|       40.734408|       -73.990849|      UNKNOWN|       UNKNOWN|      E|2022|\n",
            "+----------+------------+------------+----------+------------+----------+---------+-----------------+-------------+--------------+---------+--------+----------------+-----------------+-------------+--------------+-------+----+\n",
            "only showing top 3 rows\n",
            "\n"
          ]
        }
      ],
      "source": [
        "nypd_felony_2018_2023.show(3)"
      ]
    },
    {
      "cell_type": "code",
      "execution_count": null,
      "id": "6ee6af8f-5510-4bca-9189-f8b61516abab",
      "metadata": {
        "id": "6ee6af8f-5510-4bca-9189-f8b61516abab"
      },
      "outputs": [],
      "source": [
        "nypd_felony_2018_2023_d = nypd_felony_2018_2023.drop('LAW_CAT_CD')"
      ]
    },
    {
      "cell_type": "code",
      "execution_count": null,
      "id": "b9dd67b6-a923-4fea-87fb-f32d57f07a3a",
      "metadata": {
        "id": "b9dd67b6-a923-4fea-87fb-f32d57f07a3a",
        "outputId": "6aba3ab8-a180-47c7-812c-e67c8c9c370e"
      },
      "outputs": [
        {
          "name": "stdout",
          "output_type": "stream",
          "text": [
            "+----------+------------+------------+----------+------------+---------+-----------------+-------------+--------------+---------+--------+----------------+-----------------+-------------+--------------+-------+----+\n",
            "|CMPLNT_NUM|CMPLNT_FR_DT|CMPLNT_FR_TM| OFNS_DESC|     PD_DESC|  BORO_NM|LOC_OF_OCCUR_DESC|PREM_TYP_DESC|SUSP_AGE_GROUP|SUSP_RACE|SUSP_SEX|        Latitude|        Longitude|VIC_AGE_GROUP|      VIC_RACE|VIC_SEX|Year|\n",
            "+----------+------------+------------+----------+------------+---------+-----------------+-------------+--------------+---------+--------+----------------+-----------------+-------------+--------------+-------+----+\n",
            "| 183915130|  06/16/2018|    11:38:00|   ROBBERY|ROBBERY,BANK|   QUEENS|           INSIDE|         BANK|         45-64|    WHITE|       M|       40.684675|       -73.844567|      UNKNOWN|       UNKNOWN|      D|2018|\n",
            "| 192830904|  01/18/2019|    17:00:00|SEX CRIMES|SEXUAL ABUSE|   QUEENS|           INSIDE|        OTHER|       UNKNOWN|  UNKNOWN|       U|40.7431245994984|-73.9560680726795|          <18|WHITE HISPANIC|      F|2019|\n",
            "| 238829557|  01/06/2022|    23:09:00|     ARSON| ARSON 2,3,4|MANHATTAN|           INSIDE|         BANK|       UNKNOWN|  UNKNOWN|       U|       40.734408|       -73.990849|      UNKNOWN|       UNKNOWN|      E|2022|\n",
            "+----------+------------+------------+----------+------------+---------+-----------------+-------------+--------------+---------+--------+----------------+-----------------+-------------+--------------+-------+----+\n",
            "only showing top 3 rows\n",
            "\n"
          ]
        }
      ],
      "source": [
        "nypd_felony_2018_2023_d.show(3)"
      ]
    },
    {
      "cell_type": "code",
      "execution_count": null,
      "id": "e2677c6f-872c-48d7-83a0-dbdf57c16c0e",
      "metadata": {
        "id": "e2677c6f-872c-48d7-83a0-dbdf57c16c0e"
      },
      "outputs": [],
      "source": [
        "nypd_felony_2018_2023_d.coalesce(1).write.csv(\"NYPD_2018_2023_FELONY_D.csv\",header=True)"
      ]
    },
    {
      "cell_type": "code",
      "execution_count": null,
      "id": "18a75161-1676-476f-817e-cb1fb757be2d",
      "metadata": {
        "id": "18a75161-1676-476f-817e-cb1fb757be2d"
      },
      "outputs": [],
      "source": []
    },
    {
      "cell_type": "code",
      "execution_count": null,
      "id": "2ec05fb7-b608-46f1-a347-4622762beb63",
      "metadata": {
        "id": "2ec05fb7-b608-46f1-a347-4622762beb63"
      },
      "outputs": [],
      "source": []
    },
    {
      "cell_type": "code",
      "execution_count": null,
      "id": "032f9762-f4d5-4ce1-9a06-461142d34ca0",
      "metadata": {
        "id": "032f9762-f4d5-4ce1-9a06-461142d34ca0"
      },
      "outputs": [],
      "source": [
        "##########################FINNNNNNNNNNNNNNNNNNNNNNNNNNN#################################"
      ]
    },
    {
      "cell_type": "code",
      "execution_count": null,
      "id": "b12a52c1-95c2-4b01-a1bc-b64718c0809f",
      "metadata": {
        "id": "b12a52c1-95c2-4b01-a1bc-b64718c0809f"
      },
      "outputs": [],
      "source": [
        "###############OTROSS........#######################"
      ]
    },
    {
      "cell_type": "code",
      "execution_count": null,
      "id": "857c231d-9701-446a-83c8-755e2a565531",
      "metadata": {
        "id": "857c231d-9701-446a-83c8-755e2a565531"
      },
      "outputs": [],
      "source": [
        "nypd_limpio_sin_vic_anio = nypd_limpio_sin_vic.filter(col(\"Year\").isin(\"2018\",\"2019\",\"2020\",\"2021\",\"2022\"))"
      ]
    },
    {
      "cell_type": "code",
      "execution_count": null,
      "id": "433284b7-73f1-4e25-a9ae-d9f085ab4cb9",
      "metadata": {
        "id": "433284b7-73f1-4e25-a9ae-d9f085ab4cb9"
      },
      "outputs": [],
      "source": [
        "nypd_limpio_sin_vic.coalesce(1).write.csv(\"nypd_limpio_sin_vic.csv\",header=True)"
      ]
    },
    {
      "cell_type": "code",
      "execution_count": null,
      "id": "208d7ccb-f5b6-45ac-b435-9c8681d62b09",
      "metadata": {
        "id": "208d7ccb-f5b6-45ac-b435-9c8681d62b09"
      },
      "outputs": [],
      "source": [
        "nypd_limpio_sin_vic_anio.coalesce(1).write.csv(\"nypd_limpio_sin_vic_anio.csv\",header=True)"
      ]
    },
    {
      "cell_type": "code",
      "execution_count": null,
      "id": "16b0399f-71d6-4a4e-8079-4cb597bc747a",
      "metadata": {
        "id": "16b0399f-71d6-4a4e-8079-4cb597bc747a"
      },
      "outputs": [],
      "source": []
    },
    {
      "cell_type": "code",
      "execution_count": null,
      "id": "99595fe3-5dd8-457b-90e4-6bcea0df7a34",
      "metadata": {
        "id": "99595fe3-5dd8-457b-90e4-6bcea0df7a34"
      },
      "outputs": [],
      "source": [
        "nypd_limpio_sin_vic_anio_test = nypd_limpio_sin_vic.filter(col(\"Year\").isin(\"2018\",\"2019\"))"
      ]
    },
    {
      "cell_type": "code",
      "execution_count": null,
      "id": "e7c083a7-d686-403d-b14b-e2329563c5cc",
      "metadata": {
        "id": "e7c083a7-d686-403d-b14b-e2329563c5cc"
      },
      "outputs": [],
      "source": [
        "nypd_limpio_sin_vic_anio_test.coalesce(1).write.csv(\"nypd_limpio_sin_vic_anio_test.csv\",header=True)"
      ]
    },
    {
      "cell_type": "code",
      "execution_count": null,
      "id": "301ee419-2826-4fe9-b8f9-e7b3d52dbd8c",
      "metadata": {
        "id": "301ee419-2826-4fe9-b8f9-e7b3d52dbd8c"
      },
      "outputs": [],
      "source": [
        "###############OTRA LECTURA REDUCIDAD#######################"
      ]
    },
    {
      "cell_type": "code",
      "execution_count": null,
      "id": "76c8daa9-918e-4478-babe-ee589c23869b",
      "metadata": {
        "id": "76c8daa9-918e-4478-babe-ee589c23869b"
      },
      "outputs": [],
      "source": [
        "nypd_limpio_sin_vic_anio = spark.read.csv('nypd_limpio_sin_vic_anio.csv', header = True, sep = \",\")"
      ]
    },
    {
      "cell_type": "code",
      "execution_count": null,
      "id": "3ff2cd35-9cd1-4f59-b5cf-bafc27129ee7",
      "metadata": {
        "id": "3ff2cd35-9cd1-4f59-b5cf-bafc27129ee7"
      },
      "outputs": [],
      "source": [
        "nypd_limpio_sin_vic_anio.count()"
      ]
    },
    {
      "cell_type": "code",
      "execution_count": null,
      "id": "791318f2-86cf-4677-a68b-0c2ab4e0eebd",
      "metadata": {
        "id": "791318f2-86cf-4677-a68b-0c2ab4e0eebd"
      },
      "outputs": [],
      "source": [
        "###############vvvvvv#######################"
      ]
    },
    {
      "cell_type": "code",
      "execution_count": null,
      "id": "d4ae1257-e121-49d6-849c-8dd1749bc5aa",
      "metadata": {
        "id": "d4ae1257-e121-49d6-849c-8dd1749bc5aa"
      },
      "outputs": [],
      "source": []
    }
  ],
  "metadata": {
    "kernelspec": {
      "display_name": "Python 3 (ipykernel)",
      "language": "python",
      "name": "python3"
    },
    "language_info": {
      "codemirror_mode": {
        "name": "ipython",
        "version": 3
      },
      "file_extension": ".py",
      "mimetype": "text/x-python",
      "name": "python",
      "nbconvert_exporter": "python",
      "pygments_lexer": "ipython3",
      "version": "3.9.7"
    },
    "colab": {
      "provenance": [],
      "include_colab_link": true
    }
  },
  "nbformat": 4,
  "nbformat_minor": 5
}